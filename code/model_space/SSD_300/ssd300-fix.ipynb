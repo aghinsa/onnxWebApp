{
 "cells": [
  {
   "cell_type": "code",
   "execution_count": 1,
   "metadata": {},
   "outputs": [],
   "source": [
    "import os\n",
    "import sys\n",
    "import imp\n",
    "import json\n",
    "import onnx\n",
    "import torch\n",
    "import urllib\n",
    "import onnxruntime\n",
    "import numpy as np\n",
    "import torchvision.models\n",
    "import matplotlib.pyplot as plt\n",
    "\n",
    "from PIL import Image\n",
    "from torchvision import transforms\n",
    "CUDA=False\n",
    "EXPORT=False"
   ]
  },
  {
   "cell_type": "code",
   "execution_count": 2,
   "metadata": {},
   "outputs": [],
   "source": [
    "%load_ext autoreload\n",
    "%autoreload 2"
   ]
  },
  {
   "cell_type": "code",
   "execution_count": 3,
   "metadata": {},
   "outputs": [],
   "source": [
    "from object_detection_utils import draw_bounding_box_on_image\n",
    "models_src_path= \"./pytorch-ssd\"\n",
    "sys.path.insert(0,models_src_path) \n",
    "from vision.ssd.mobilenetv1_ssd import create_mobilenetv1_ssd, create_mobilenetv1_ssd_predictor\n",
    "\n",
    "from vision.utils import box_utils\n"
   ]
  },
  {
   "cell_type": "code",
   "execution_count": 4,
   "metadata": {},
   "outputs": [],
   "source": [
    "\n",
    "model = create_mobilenetv1_ssd(num_classes=21, is_test=True,device=\"cpu\")\n",
    "model.load(\"../pretrained_models/mobilenet-v1-ssd-mp-0_675.pth\")\n",
    "model.eval();\n"
   ]
  },
  {
   "cell_type": "code",
   "execution_count": 5,
   "metadata": {},
   "outputs": [],
   "source": [
    "sample_input = torch.randn((1,3,300,300))\n",
    "ss=model(sample_input);"
   ]
  },
  {
   "cell_type": "code",
   "execution_count": 6,
   "metadata": {},
   "outputs": [],
   "source": [
    "export_path = \"../exported_models/ssd_mobilenetv1_300_patch.onnx\"\n",
    "\n",
    "\n",
    "torch.onnx.export(\n",
    "              model,\n",
    "              sample_input,\n",
    "              export_path,\n",
    "              export_params=True,\n",
    "              opset_version=7,          # the ONNX version to export the model to\n",
    "              do_constant_folding=True,  # whether to execute constant folding for optimization\n",
    "              input_names = ['input'],   # the model's input names\n",
    "              output_names = ['output'], # the model's output names\n",
    "                 )"
   ]
  },
  {
   "cell_type": "code",
   "execution_count": null,
   "metadata": {},
   "outputs": [],
   "source": []
  }
 ],
 "metadata": {
  "kernelspec": {
   "display_name": "Python 3",
   "language": "python",
   "name": "python3"
  },
  "language_info": {
   "codemirror_mode": {
    "name": "ipython",
    "version": 3
   },
   "file_extension": ".py",
   "mimetype": "text/x-python",
   "name": "python",
   "nbconvert_exporter": "python",
   "pygments_lexer": "ipython3",
   "version": "3.6.10"
  }
 },
 "nbformat": 4,
 "nbformat_minor": 2
}
