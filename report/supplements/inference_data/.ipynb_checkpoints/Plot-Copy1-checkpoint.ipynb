{
 "cells": [
  {
   "cell_type": "code",
   "execution_count": 1,
   "metadata": {},
   "outputs": [],
   "source": [
    "import pandas as pd\n",
    "import numpy as np\n",
    "import matplotlib.pyplot as plt\n",
    "import seaborn as sns\n",
    "import json\n",
    "import imgkit\n",
    "from tabulate import tabulate"
   ]
  },
  {
   "cell_type": "code",
   "execution_count": 2,
   "metadata": {},
   "outputs": [],
   "source": [
    "def process_df(csv_path):\n",
    "    df=pd.read_csv(csv_path)\n",
    "    df=df.drop(['mean','std','epoch_1'],axis=1)\n",
    "    df['mean']=df.loc[:, df.columns != 'model'].mean(axis=1)\n",
    "    df['std']=df.loc[:, df.columns != 'model'].std(axis=1)\n",
    "    df.set_index('model',inplace=True)\n",
    "    df.sort_index(inplace=True)\n",
    "    return df\n"
   ]
  },
  {
   "cell_type": "code",
   "execution_count": 36,
   "metadata": {},
   "outputs": [],
   "source": [
    "## parsing json and converting to dataframe\n",
    "log_dir=\"./logged/\"\n",
    "logs = ['mobilenet_v1_224','ssd_mobileNet_v1_300','resnet_v1.5_224','ssd_resnet34_1200']\n",
    "datas=[]\n",
    "for log in logs:\n",
    "    path_to_json=log_dir+log+\".json\"\n",
    "    with open(path_to_json) as f:\n",
    "        data = json.load(f)\n",
    "    data.pop(\"output_data_tensors\");\n",
    "    inference_times=data.pop(\"inference_times\")\n",
    "    inference_times={\n",
    "            f\"epoch_{i}\":x for i,x in enumerate(inference_times,1)\n",
    "        }\n",
    "    data['model']=log\n",
    "    data.update(inference_times)\n",
    "    datas.append(data)\n",
    "df=pd.DataFrame(datas)\n",
    "df.to_csv('dev5.csv')"
   ]
  },
  {
   "cell_type": "code",
   "execution_count": 4,
   "metadata": {},
   "outputs": [
    {
     "name": "stdout",
     "output_type": "stream",
     "text": [
      "--------------------  ---------  --------\n",
      "mobilenet_v1_224        46.8966  35.4433\n",
      "ssd_mobileNet_v1_300    75.2069   1.26979\n",
      "resnet_v1.5_224        112.379    1.69001\n",
      "ssd_resnet34_1200     6784.34    83.3672\n",
      "--------------------  ---------  --------\n"
     ]
    }
   ],
   "source": [
    "df=process_df('dev1.csv').sort_values(by=['mean'])\n",
    "print(tabulate(df[['mean','std']]))"
   ]
  },
  {
   "cell_type": "code",
   "execution_count": 38,
   "metadata": {},
   "outputs": [
    {
     "data": {
      "text/html": [
       "<div>\n",
       "<style scoped>\n",
       "    .dataframe tbody tr th:only-of-type {\n",
       "        vertical-align: middle;\n",
       "    }\n",
       "\n",
       "    .dataframe tbody tr th {\n",
       "        vertical-align: top;\n",
       "    }\n",
       "\n",
       "    .dataframe thead th {\n",
       "        text-align: right;\n",
       "    }\n",
       "</style>\n",
       "<table border=\"1\" class=\"dataframe\">\n",
       "  <thead>\n",
       "    <tr style=\"text-align: right;\">\n",
       "      <th></th>\n",
       "      <th>epoch_1</th>\n",
       "      <th>epoch_10</th>\n",
       "      <th>epoch_11</th>\n",
       "      <th>epoch_12</th>\n",
       "      <th>epoch_13</th>\n",
       "      <th>epoch_14</th>\n",
       "      <th>epoch_15</th>\n",
       "      <th>epoch_16</th>\n",
       "      <th>epoch_17</th>\n",
       "      <th>epoch_18</th>\n",
       "      <th>...</th>\n",
       "      <th>epoch_30</th>\n",
       "      <th>epoch_4</th>\n",
       "      <th>epoch_5</th>\n",
       "      <th>epoch_6</th>\n",
       "      <th>epoch_7</th>\n",
       "      <th>epoch_8</th>\n",
       "      <th>epoch_9</th>\n",
       "      <th>mean</th>\n",
       "      <th>model</th>\n",
       "      <th>std</th>\n",
       "    </tr>\n",
       "  </thead>\n",
       "  <tbody>\n",
       "    <tr>\n",
       "      <th>0</th>\n",
       "      <td>7223</td>\n",
       "      <td>330</td>\n",
       "      <td>334</td>\n",
       "      <td>331</td>\n",
       "      <td>332</td>\n",
       "      <td>331</td>\n",
       "      <td>329</td>\n",
       "      <td>330</td>\n",
       "      <td>338</td>\n",
       "      <td>335</td>\n",
       "      <td>...</td>\n",
       "      <td>332</td>\n",
       "      <td>331</td>\n",
       "      <td>332</td>\n",
       "      <td>329</td>\n",
       "      <td>331</td>\n",
       "      <td>334</td>\n",
       "      <td>332</td>\n",
       "      <td>564.666667</td>\n",
       "      <td>mobilenet_v1_224</td>\n",
       "      <td>1257.636325</td>\n",
       "    </tr>\n",
       "    <tr>\n",
       "      <th>1</th>\n",
       "      <td>7170</td>\n",
       "      <td>772</td>\n",
       "      <td>775</td>\n",
       "      <td>772</td>\n",
       "      <td>778</td>\n",
       "      <td>771</td>\n",
       "      <td>773</td>\n",
       "      <td>773</td>\n",
       "      <td>772</td>\n",
       "      <td>774</td>\n",
       "      <td>...</td>\n",
       "      <td>777</td>\n",
       "      <td>776</td>\n",
       "      <td>774</td>\n",
       "      <td>775</td>\n",
       "      <td>774</td>\n",
       "      <td>819</td>\n",
       "      <td>775</td>\n",
       "      <td>988.166667</td>\n",
       "      <td>ssd_mobileNet_v1_300</td>\n",
       "      <td>1167.594080</td>\n",
       "    </tr>\n",
       "    <tr>\n",
       "      <th>2</th>\n",
       "      <td>8397</td>\n",
       "      <td>261</td>\n",
       "      <td>268</td>\n",
       "      <td>262</td>\n",
       "      <td>257</td>\n",
       "      <td>259</td>\n",
       "      <td>258</td>\n",
       "      <td>258</td>\n",
       "      <td>258</td>\n",
       "      <td>256</td>\n",
       "      <td>...</td>\n",
       "      <td>257</td>\n",
       "      <td>259</td>\n",
       "      <td>259</td>\n",
       "      <td>258</td>\n",
       "      <td>261</td>\n",
       "      <td>399</td>\n",
       "      <td>262</td>\n",
       "      <td>535.533333</td>\n",
       "      <td>resnet_v1.5_224</td>\n",
       "      <td>1485.016980</td>\n",
       "    </tr>\n",
       "    <tr>\n",
       "      <th>3</th>\n",
       "      <td>-1</td>\n",
       "      <td>-1</td>\n",
       "      <td>-1</td>\n",
       "      <td>-1</td>\n",
       "      <td>-1</td>\n",
       "      <td>-1</td>\n",
       "      <td>-1</td>\n",
       "      <td>-1</td>\n",
       "      <td>-1</td>\n",
       "      <td>-1</td>\n",
       "      <td>...</td>\n",
       "      <td>-1</td>\n",
       "      <td>-1</td>\n",
       "      <td>-1</td>\n",
       "      <td>-1</td>\n",
       "      <td>-1</td>\n",
       "      <td>-1</td>\n",
       "      <td>-1</td>\n",
       "      <td>-1.000000</td>\n",
       "      <td>ssd_resnet34_1200</td>\n",
       "      <td>0.000000</td>\n",
       "    </tr>\n",
       "  </tbody>\n",
       "</table>\n",
       "<p>4 rows × 33 columns</p>\n",
       "</div>"
      ],
      "text/plain": [
       "   epoch_1  epoch_10  epoch_11  epoch_12  epoch_13  epoch_14  epoch_15  \\\n",
       "0     7223       330       334       331       332       331       329   \n",
       "1     7170       772       775       772       778       771       773   \n",
       "2     8397       261       268       262       257       259       258   \n",
       "3       -1        -1        -1        -1        -1        -1        -1   \n",
       "\n",
       "   epoch_16  epoch_17  epoch_18     ...       epoch_30  epoch_4  epoch_5  \\\n",
       "0       330       338       335     ...            332      331      332   \n",
       "1       773       772       774     ...            777      776      774   \n",
       "2       258       258       256     ...            257      259      259   \n",
       "3        -1        -1        -1     ...             -1       -1       -1   \n",
       "\n",
       "   epoch_6  epoch_7  epoch_8  epoch_9        mean                 model  \\\n",
       "0      329      331      334      332  564.666667      mobilenet_v1_224   \n",
       "1      775      774      819      775  988.166667  ssd_mobileNet_v1_300   \n",
       "2      258      261      399      262  535.533333       resnet_v1.5_224   \n",
       "3       -1       -1       -1       -1   -1.000000     ssd_resnet34_1200   \n",
       "\n",
       "           std  \n",
       "0  1257.636325  \n",
       "1  1167.594080  \n",
       "2  1485.016980  \n",
       "3     0.000000  \n",
       "\n",
       "[4 rows x 33 columns]"
      ]
     },
     "execution_count": 38,
     "metadata": {},
     "output_type": "execute_result"
    }
   ],
   "source": [
    "df"
   ]
  },
  {
   "cell_type": "code",
   "execution_count": 60,
   "metadata": {},
   "outputs": [],
   "source": [
    "# plot grouped bar\n",
    "dfs=[f\"dev{x}.csv\" for x in range(1,6)]\n",
    "dfs = list(map(lambda x:( process_df(x)[['mean']],x.split('.')[0] ),dfs))\n",
    "\n",
    "dfs=sorted(dfs,key=lambda x:x[0].loc['mobilenet_v1_224'][0])\n",
    "dfs,devices= zip(*dfs)\n",
    "\n",
    "per_device_means=list(map(lambda x:x[[\"mean\"]].values.ravel().tolist(),dfs))\n",
    "per_model_means = list(zip(*per_device_means))\n",
    "means_df=pd.DataFrame(per_device_means,index=devices,columns=dfs[0].index.tolist())  \n",
    "devices_df = means_df.transpose()\n",
    "\n",
    "bar_width = 0.25\n",
    " \n",
    "n_devices = len(devices)\n",
    "n_models = 4\n",
    "rows = [np.arange(n_devices)]\n",
    "curr=rows[0]\n",
    "for _ in range(1,n_models):\n",
    "    new_row = curr+bar_width\n",
    "    curr=new_row\n",
    "    rows.append(new_row)\n",
    "\n",
    "colors=['blue','green','red','yellow']\n",
    "labels=dfs[0].index.tolist()"
   ]
  },
  {
   "cell_type": "code",
   "execution_count": 61,
   "metadata": {},
   "outputs": [
    {
     "data": {
      "text/plain": [
       "[array([0, 1, 2, 3, 4]),\n",
       " array([0.25, 1.25, 2.25, 3.25, 4.25]),\n",
       " array([0.5, 1.5, 2.5, 3.5, 4.5]),\n",
       " array([0.75, 1.75, 2.75, 3.75, 4.75])]"
      ]
     },
     "execution_count": 61,
     "metadata": {},
     "output_type": "execute_result"
    }
   ],
   "source": [
    "rows"
   ]
  },
  {
   "cell_type": "code",
   "execution_count": 62,
   "metadata": {},
   "outputs": [
    {
     "data": {
      "text/plain": [
       "('dev1', 'dev3', 'dev5', 'dev4', 'dev2')"
      ]
     },
     "execution_count": 62,
     "metadata": {},
     "output_type": "execute_result"
    }
   ],
   "source": [
    "devices"
   ]
  },
  {
   "cell_type": "code",
   "execution_count": 66,
   "metadata": {},
   "outputs": [
    {
     "data": {
      "text/plain": [
       "<matplotlib.axes._subplots.AxesSubplot at 0x7fea39c45c50>"
      ]
     },
     "execution_count": 66,
     "metadata": {},
     "output_type": "execute_result"
    },
    {
     "data": {
      "image/png": "[encoded data removed]",
      "text/plain": [
       "<Figure size 432x288 with 1 Axes>"
      ]
     },
     "metadata": {
      "needs_background": "light"
     },
     "output_type": "display_data"
    }
   ],
   "source": [
    "means_df.plot.bar()"
   ]
  },
  {
   "cell_type": "code",
   "execution_count": null,
   "metadata": {},
   "outputs": [],
   "source": [
    "pd.concat(\n",
    "    [df.mean().rename('average'), df.min().rename('min'), \n",
    "     df.max().rename('max')],\n",
    "    axis=1).plot.bar()"
   ]
  },
  {
   "cell_type": "code",
   "execution_count": 63,
   "metadata": {},
   "outputs": [
    {
     "data": {
      "image/png": "[encoded data removed]",
      "text/plain": [
       "<Figure size 1080x360 with 1 Axes>"
      ]
     },
     "metadata": {
      "needs_background": "light"
     },
     "output_type": "display_data"
    }
   ],
   "source": [
    "plt.figure(figsize=(15,5))\n",
    "for i in range(4):\n",
    "    plt.bar(rows[i],per_model_means[i],width=bar_width,edgecolor='white', label=labels[i] )\n",
    "\n",
    "plt.legend(loc=\"best\")\n",
    "plt.xlabel('Device', fontweight='bold')\n",
    "plt.ylabel('Mean Inference Time in milliseconds', fontweight='bold')\n",
    "plt.xticks([r + bar_width for r in range(n_devices)], devices)\n",
    "plt.savefig(\"model_grouped.png\")\n",
    "plt.show()"
   ]
  },
  {
   "cell_type": "code",
   "execution_count": 91,
   "metadata": {},
   "outputs": [
    {
     "data": {
      "text/html": [
       "<style  type=\"text/css\" >\n",
       "    #T_2660bc08_4fb0_11ea_8754_4fdab37f9731row0_col0 {\n",
       "            background-color:  #ffff00;\n",
       "        }    #T_2660bc08_4fb0_11ea_8754_4fdab37f9731row0_col1 {\n",
       "            background-color:  #ffffe5;\n",
       "        }    #T_2660bc08_4fb0_11ea_8754_4fdab37f9731row0_col2 {\n",
       "            background-color:  #ffffe5;\n",
       "        }    #T_2660bc08_4fb0_11ea_8754_4fdab37f9731row0_col3 {\n",
       "            background-color:  #ffffe5;\n",
       "        }    #T_2660bc08_4fb0_11ea_8754_4fdab37f9731row0_col4 {\n",
       "            background-color:  #ffffe5;\n",
       "        }    #T_2660bc08_4fb0_11ea_8754_4fdab37f9731row1_col0 {\n",
       "            background-color:  #ffffc1;\n",
       "        }    #T_2660bc08_4fb0_11ea_8754_4fdab37f9731row1_col1 {\n",
       "            background-color:  #ffff00;\n",
       "        }    #T_2660bc08_4fb0_11ea_8754_4fdab37f9731row1_col2 {\n",
       "            background-color:  #ffff10;\n",
       "        }    #T_2660bc08_4fb0_11ea_8754_4fdab37f9731row1_col3 {\n",
       "            background-color:  #ffff0d;\n",
       "        }    #T_2660bc08_4fb0_11ea_8754_4fdab37f9731row1_col4 {\n",
       "            background-color:  #ffff08;\n",
       "        }    #T_2660bc08_4fb0_11ea_8754_4fdab37f9731row2_col0 {\n",
       "            background-color:  #ffffd8;\n",
       "        }    #T_2660bc08_4fb0_11ea_8754_4fdab37f9731row2_col1 {\n",
       "            background-color:  #ffff12;\n",
       "        }    #T_2660bc08_4fb0_11ea_8754_4fdab37f9731row2_col2 {\n",
       "            background-color:  #ffff00;\n",
       "        }    #T_2660bc08_4fb0_11ea_8754_4fdab37f9731row2_col3 {\n",
       "            background-color:  #ffff03;\n",
       "        }    #T_2660bc08_4fb0_11ea_8754_4fdab37f9731row2_col4 {\n",
       "            background-color:  #ffff02;\n",
       "        }    #T_2660bc08_4fb0_11ea_8754_4fdab37f9731row3_col0 {\n",
       "            background-color:  #ffffe5;\n",
       "        }    #T_2660bc08_4fb0_11ea_8754_4fdab37f9731row3_col1 {\n",
       "            background-color:  #ffff0f;\n",
       "        }    #T_2660bc08_4fb0_11ea_8754_4fdab37f9731row3_col2 {\n",
       "            background-color:  #ffff03;\n",
       "        }    #T_2660bc08_4fb0_11ea_8754_4fdab37f9731row3_col3 {\n",
       "            background-color:  #ffff00;\n",
       "        }    #T_2660bc08_4fb0_11ea_8754_4fdab37f9731row3_col4 {\n",
       "            background-color:  #ffff01;\n",
       "        }    #T_2660bc08_4fb0_11ea_8754_4fdab37f9731row4_col0 {\n",
       "            background-color:  #ffffdc;\n",
       "        }    #T_2660bc08_4fb0_11ea_8754_4fdab37f9731row4_col1 {\n",
       "            background-color:  #ffff0a;\n",
       "        }    #T_2660bc08_4fb0_11ea_8754_4fdab37f9731row4_col2 {\n",
       "            background-color:  #ffff02;\n",
       "        }    #T_2660bc08_4fb0_11ea_8754_4fdab37f9731row4_col3 {\n",
       "            background-color:  #ffff00;\n",
       "        }    #T_2660bc08_4fb0_11ea_8754_4fdab37f9731row4_col4 {\n",
       "            background-color:  #ffff00;\n",
       "        }</style>  \n",
       "<table id=\"T_2660bc08_4fb0_11ea_8754_4fdab37f9731\" > \n",
       "<thead>    <tr> \n",
       "        <th class=\"blank level0\" ></th> \n",
       "        <th class=\"col_heading level0 col0\" >dev1</th> \n",
       "        <th class=\"col_heading level0 col1\" >dev5</th> \n",
       "        <th class=\"col_heading level0 col2\" >dev3</th> \n",
       "        <th class=\"col_heading level0 col3\" >dev4</th> \n",
       "        <th class=\"col_heading level0 col4\" >dev2</th> \n",
       "    </tr></thead> \n",
       "<tbody>    <tr> \n",
       "        <th id=\"T_2660bc08_4fb0_11ea_8754_4fdab37f9731level0_row0\" class=\"row_heading level0 row0\" >dev1</th> \n",
       "        <td id=\"T_2660bc08_4fb0_11ea_8754_4fdab37f9731row0_col0\" class=\"data row0 col0\" >1</td> \n",
       "        <td id=\"T_2660bc08_4fb0_11ea_8754_4fdab37f9731row0_col1\" class=\"data row0 col1\" >-0.509169</td> \n",
       "        <td id=\"T_2660bc08_4fb0_11ea_8754_4fdab37f9731row0_col2\" class=\"data row0 col2\" >-0.692056</td> \n",
       "        <td id=\"T_2660bc08_4fb0_11ea_8754_4fdab37f9731row0_col3\" class=\"data row0 col3\" >-0.801255</td> \n",
       "        <td id=\"T_2660bc08_4fb0_11ea_8754_4fdab37f9731row0_col4\" class=\"data row0 col4\" >-0.7254</td> \n",
       "    </tr>    <tr> \n",
       "        <th id=\"T_2660bc08_4fb0_11ea_8754_4fdab37f9731level0_row1\" class=\"row_heading level0 row1\" >dev5</th> \n",
       "        <td id=\"T_2660bc08_4fb0_11ea_8754_4fdab37f9731row1_col0\" class=\"data row1 col0\" >-0.509169</td> \n",
       "        <td id=\"T_2660bc08_4fb0_11ea_8754_4fdab37f9731row1_col1\" class=\"data row1 col1\" >1</td> \n",
       "        <td id=\"T_2660bc08_4fb0_11ea_8754_4fdab37f9731row1_col2\" class=\"data row1 col2\" >0.879284</td> \n",
       "        <td id=\"T_2660bc08_4fb0_11ea_8754_4fdab37f9731row1_col3\" class=\"data row1 col3\" >0.896937</td> \n",
       "        <td id=\"T_2660bc08_4fb0_11ea_8754_4fdab37f9731row1_col4\" class=\"data row1 col4\" >0.932732</td> \n",
       "    </tr>    <tr> \n",
       "        <th id=\"T_2660bc08_4fb0_11ea_8754_4fdab37f9731level0_row2\" class=\"row_heading level0 row2\" >dev3</th> \n",
       "        <td id=\"T_2660bc08_4fb0_11ea_8754_4fdab37f9731row2_col0\" class=\"data row2 col0\" >-0.692056</td> \n",
       "        <td id=\"T_2660bc08_4fb0_11ea_8754_4fdab37f9731row2_col1\" class=\"data row2 col1\" >0.879284</td> \n",
       "        <td id=\"T_2660bc08_4fb0_11ea_8754_4fdab37f9731row2_col2\" class=\"data row2 col2\" >1</td> \n",
       "        <td id=\"T_2660bc08_4fb0_11ea_8754_4fdab37f9731row2_col3\" class=\"data row2 col3\" >0.974104</td> \n",
       "        <td id=\"T_2660bc08_4fb0_11ea_8754_4fdab37f9731row2_col4\" class=\"data row2 col4\" >0.98417</td> \n",
       "    </tr>    <tr> \n",
       "        <th id=\"T_2660bc08_4fb0_11ea_8754_4fdab37f9731level0_row3\" class=\"row_heading level0 row3\" >dev4</th> \n",
       "        <td id=\"T_2660bc08_4fb0_11ea_8754_4fdab37f9731row3_col0\" class=\"data row3 col0\" >-0.801255</td> \n",
       "        <td id=\"T_2660bc08_4fb0_11ea_8754_4fdab37f9731row3_col1\" class=\"data row3 col1\" >0.896937</td> \n",
       "        <td id=\"T_2660bc08_4fb0_11ea_8754_4fdab37f9731row3_col2\" class=\"data row3 col2\" >0.974104</td> \n",
       "        <td id=\"T_2660bc08_4fb0_11ea_8754_4fdab37f9731row3_col3\" class=\"data row3 col3\" >1</td> \n",
       "        <td id=\"T_2660bc08_4fb0_11ea_8754_4fdab37f9731row3_col4\" class=\"data row3 col4\" >0.993068</td> \n",
       "    </tr>    <tr> \n",
       "        <th id=\"T_2660bc08_4fb0_11ea_8754_4fdab37f9731level0_row4\" class=\"row_heading level0 row4\" >dev2</th> \n",
       "        <td id=\"T_2660bc08_4fb0_11ea_8754_4fdab37f9731row4_col0\" class=\"data row4 col0\" >-0.7254</td> \n",
       "        <td id=\"T_2660bc08_4fb0_11ea_8754_4fdab37f9731row4_col1\" class=\"data row4 col1\" >0.932732</td> \n",
       "        <td id=\"T_2660bc08_4fb0_11ea_8754_4fdab37f9731row4_col2\" class=\"data row4 col2\" >0.98417</td> \n",
       "        <td id=\"T_2660bc08_4fb0_11ea_8754_4fdab37f9731row4_col3\" class=\"data row4 col3\" >0.993068</td> \n",
       "        <td id=\"T_2660bc08_4fb0_11ea_8754_4fdab37f9731row4_col4\" class=\"data row4 col4\" >1</td> \n",
       "    </tr></tbody> \n",
       "</table> "
      ],
      "text/plain": [
       "<pandas.io.formats.style.Styler at 0x7f620081a390>"
      ]
     },
     "execution_count": 91,
     "metadata": {},
     "output_type": "execute_result"
    }
   ],
   "source": [
    "# Corr devices\n",
    "cm = sns.light_palette(\"yellow\", as_cmap=True)\n",
    "corr = devices_df.corr()\n",
    "corr.style.background_gradient(cmap=cm)"
   ]
  },
  {
   "cell_type": "code",
   "execution_count": 92,
   "metadata": {},
   "outputs": [
    {
     "name": "stdout",
     "output_type": "stream",
     "text": [
      "dev4  dev2    0.993068\n",
      "dev3  dev2    0.984170\n",
      "      dev4    0.974104\n",
      "dev5  dev2    0.932732\n",
      "      dev4    0.896937\n",
      "      dev3    0.879284\n",
      "dev1  dev4    0.801255\n",
      "      dev2    0.725400\n",
      "      dev3    0.692056\n",
      "      dev5    0.509169\n",
      "dtype: float64\n"
     ]
    }
   ],
   "source": [
    "corr_matrix = devices_df.corr().abs()\n",
    "corr_pairs = (corr_matrix.where(np.triu(np.ones(corr_matrix.shape), k=1).astype(np.bool))\n",
    "                 .stack()\n",
    "                 .sort_values(ascending=False))\n",
    "print(corr_pairs)"
   ]
  },
  {
   "cell_type": "code",
   "execution_count": 95,
   "metadata": {},
   "outputs": [
    {
     "data": {
      "text/html": [
       "<style  type=\"text/css\" >\n",
       "    #T_b06ff300_4fb0_11ea_8754_4fdab37f9731row0_col0 {\n",
       "            background-color:  #ffa500;\n",
       "        }    #T_b06ff300_4fb0_11ea_8754_4fdab37f9731row0_col1 {\n",
       "            background-color:  #ffa500;\n",
       "        }    #T_b06ff300_4fb0_11ea_8754_4fdab37f9731row0_col2 {\n",
       "            background-color:  #ffa500;\n",
       "        }    #T_b06ff300_4fb0_11ea_8754_4fdab37f9731row0_col3 {\n",
       "            background-color:  #fff6e5;\n",
       "        }    #T_b06ff300_4fb0_11ea_8754_4fdab37f9731row1_col0 {\n",
       "            background-color:  #ffa500;\n",
       "        }    #T_b06ff300_4fb0_11ea_8754_4fdab37f9731row1_col1 {\n",
       "            background-color:  #ffa500;\n",
       "        }    #T_b06ff300_4fb0_11ea_8754_4fdab37f9731row1_col2 {\n",
       "            background-color:  #ffa500;\n",
       "        }    #T_b06ff300_4fb0_11ea_8754_4fdab37f9731row1_col3 {\n",
       "            background-color:  #fff4e0;\n",
       "        }    #T_b06ff300_4fb0_11ea_8754_4fdab37f9731row2_col0 {\n",
       "            background-color:  #ffa500;\n",
       "        }    #T_b06ff300_4fb0_11ea_8754_4fdab37f9731row2_col1 {\n",
       "            background-color:  #ffa500;\n",
       "        }    #T_b06ff300_4fb0_11ea_8754_4fdab37f9731row2_col2 {\n",
       "            background-color:  #ffa500;\n",
       "        }    #T_b06ff300_4fb0_11ea_8754_4fdab37f9731row2_col3 {\n",
       "            background-color:  #fff6e5;\n",
       "        }    #T_b06ff300_4fb0_11ea_8754_4fdab37f9731row3_col0 {\n",
       "            background-color:  #fff6e5;\n",
       "        }    #T_b06ff300_4fb0_11ea_8754_4fdab37f9731row3_col1 {\n",
       "            background-color:  #fff6e5;\n",
       "        }    #T_b06ff300_4fb0_11ea_8754_4fdab37f9731row3_col2 {\n",
       "            background-color:  #fff6e5;\n",
       "        }    #T_b06ff300_4fb0_11ea_8754_4fdab37f9731row3_col3 {\n",
       "            background-color:  #ffa500;\n",
       "        }</style>  \n",
       "<table id=\"T_b06ff300_4fb0_11ea_8754_4fdab37f9731\" > \n",
       "<thead>    <tr> \n",
       "        <th class=\"blank level0\" ></th> \n",
       "        <th class=\"col_heading level0 col0\" >mobilenet_v1_224</th> \n",
       "        <th class=\"col_heading level0 col1\" >resnet_v1.5_224</th> \n",
       "        <th class=\"col_heading level0 col2\" >ssd_mobileNet_v1_300</th> \n",
       "        <th class=\"col_heading level0 col3\" >ssd_resnet34_1200</th> \n",
       "    </tr></thead> \n",
       "<tbody>    <tr> \n",
       "        <th id=\"T_b06ff300_4fb0_11ea_8754_4fdab37f9731level0_row0\" class=\"row_heading level0 row0\" >mobilenet_v1_224</th> \n",
       "        <td id=\"T_b06ff300_4fb0_11ea_8754_4fdab37f9731row0_col0\" class=\"data row0 col0\" >1</td> \n",
       "        <td id=\"T_b06ff300_4fb0_11ea_8754_4fdab37f9731row0_col1\" class=\"data row0 col1\" >0.997576</td> \n",
       "        <td id=\"T_b06ff300_4fb0_11ea_8754_4fdab37f9731row0_col2\" class=\"data row0 col2\" >0.9991</td> \n",
       "        <td id=\"T_b06ff300_4fb0_11ea_8754_4fdab37f9731row0_col3\" class=\"data row0 col3\" >-0.321115</td> \n",
       "    </tr>    <tr> \n",
       "        <th id=\"T_b06ff300_4fb0_11ea_8754_4fdab37f9731level0_row1\" class=\"row_heading level0 row1\" >resnet_v1.5_224</th> \n",
       "        <td id=\"T_b06ff300_4fb0_11ea_8754_4fdab37f9731row1_col0\" class=\"data row1 col0\" >0.997576</td> \n",
       "        <td id=\"T_b06ff300_4fb0_11ea_8754_4fdab37f9731row1_col1\" class=\"data row1 col1\" >1</td> \n",
       "        <td id=\"T_b06ff300_4fb0_11ea_8754_4fdab37f9731row1_col2\" class=\"data row1 col2\" >0.997471</td> \n",
       "        <td id=\"T_b06ff300_4fb0_11ea_8754_4fdab37f9731row1_col3\" class=\"data row1 col3\" >-0.294405</td> \n",
       "    </tr>    <tr> \n",
       "        <th id=\"T_b06ff300_4fb0_11ea_8754_4fdab37f9731level0_row2\" class=\"row_heading level0 row2\" >ssd_mobileNet_v1_300</th> \n",
       "        <td id=\"T_b06ff300_4fb0_11ea_8754_4fdab37f9731row2_col0\" class=\"data row2 col0\" >0.9991</td> \n",
       "        <td id=\"T_b06ff300_4fb0_11ea_8754_4fdab37f9731row2_col1\" class=\"data row2 col1\" >0.997471</td> \n",
       "        <td id=\"T_b06ff300_4fb0_11ea_8754_4fdab37f9731row2_col2\" class=\"data row2 col2\" >1</td> \n",
       "        <td id=\"T_b06ff300_4fb0_11ea_8754_4fdab37f9731row2_col3\" class=\"data row2 col3\" >-0.327292</td> \n",
       "    </tr>    <tr> \n",
       "        <th id=\"T_b06ff300_4fb0_11ea_8754_4fdab37f9731level0_row3\" class=\"row_heading level0 row3\" >ssd_resnet34_1200</th> \n",
       "        <td id=\"T_b06ff300_4fb0_11ea_8754_4fdab37f9731row3_col0\" class=\"data row3 col0\" >-0.321115</td> \n",
       "        <td id=\"T_b06ff300_4fb0_11ea_8754_4fdab37f9731row3_col1\" class=\"data row3 col1\" >-0.294405</td> \n",
       "        <td id=\"T_b06ff300_4fb0_11ea_8754_4fdab37f9731row3_col2\" class=\"data row3 col2\" >-0.327292</td> \n",
       "        <td id=\"T_b06ff300_4fb0_11ea_8754_4fdab37f9731row3_col3\" class=\"data row3 col3\" >1</td> \n",
       "    </tr></tbody> \n",
       "</table> "
      ],
      "text/plain": [
       "<pandas.io.formats.style.Styler at 0x7f62007c9208>"
      ]
     },
     "execution_count": 95,
     "metadata": {},
     "output_type": "execute_result"
    }
   ],
   "source": [
    "# Corr models\n",
    "cm = sns.light_palette(\"orange\", as_cmap=True)\n",
    "corr = means_df.corr()\n",
    "corr.style.background_gradient(cmap=cm)"
   ]
  },
  {
   "cell_type": "code",
   "execution_count": 97,
   "metadata": {},
   "outputs": [
    {
     "name": "stdout",
     "output_type": "stream",
     "text": [
      "mobilenet_v1_224      ssd_mobileNet_v1_300    0.999100\n",
      "                      resnet_v1.5_224         0.997576\n",
      "resnet_v1.5_224       ssd_mobileNet_v1_300    0.997471\n",
      "ssd_mobileNet_v1_300  ssd_resnet34_1200       0.327292\n",
      "mobilenet_v1_224      ssd_resnet34_1200       0.321115\n",
      "resnet_v1.5_224       ssd_resnet34_1200       0.294405\n",
      "dtype: float64\n"
     ]
    }
   ],
   "source": [
    "corr_matrix = means_df.corr().abs()\n",
    "corr_pairs = (corr_matrix.where(np.triu(np.ones(corr_matrix.shape), k=1).astype(np.bool))\n",
    "                 .stack()\n",
    "                 .sort_values(ascending=False))\n",
    "print(corr_pairs)"
   ]
  }
 ],
 "metadata": {
  "kernelspec": {
   "display_name": "Python 3",
   "language": "python",
   "name": "python3"
  },
  "language_info": {
   "codemirror_mode": {
    "name": "ipython",
    "version": 3
   },
   "file_extension": ".py",
   "mimetype": "text/x-python",
   "name": "python",
   "nbconvert_exporter": "python",
   "pygments_lexer": "ipython3",
   "version": "3.6.10"
  }
 },
 "nbformat": 4,
 "nbformat_minor": 2
}
